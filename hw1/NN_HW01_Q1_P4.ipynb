{
  "nbformat": 4,
  "nbformat_minor": 0,
  "metadata": {
    "colab": {
      "provenance": []
    },
    "kernelspec": {
      "name": "python3",
      "display_name": "Python 3"
    },
    "language_info": {
      "name": "python"
    }
  },
  "cells": [
    {
      "cell_type": "code",
      "execution_count": null,
      "metadata": {
        "colab": {
          "base_uri": "https://localhost:8080/"
        },
        "id": "5xhs8bGJD0qR",
        "outputId": "4aa04a92-2ef5-4bb1-c529-23b21d2f0815"
      },
      "outputs": [
        {
          "output_type": "stream",
          "name": "stdout",
          "text": [
            "insert your input : /n\n",
            "X0 : 1\n",
            "X1 : 1\n",
            "X2 : 1\n",
            " y0 =  1 \n",
            " y1 =  1 \n",
            " y2 =  1\n"
          ]
        }
      ],
      "source": [
        "import numpy as np\n",
        "class mp_neuron:\n",
        "    def __init__(self , w0 , w1 , w2):\n",
        "        self.w = np.array([[w0 , w1 , w2]])\n",
        "        self.CONST_THRESHOLD = 2\n",
        "        self.net = -1\n",
        "        self.h = 0\n",
        "\n",
        "    def setInput(self , x0 , x1 , x2):\n",
        "        input = np.array([[x0],\n",
        "                    [x1],\n",
        "                    [x2]])\n",
        "        self.net = np.sum(np.matmul(self.w , input))\n",
        "\n",
        "    def getH(self):\n",
        "        if self.net != -1 :\n",
        "            if self.net >= self.CONST_THRESHOLD : self.h = 1\n",
        "            else : self.h = 0\n",
        "        return self.h\n",
        "\n",
        "    def getNet(self):\n",
        "        return self.net\n",
        "\n",
        "    def getW(self):\n",
        "        return self.w\n",
        "\n",
        "    def getThreshold(self):\n",
        "        return self.CONST_THRESHOLD\n",
        "\n",
        "z0 = mp_neuron(1 , 1 , 0 )\n",
        "z1 = mp_neuron(0, 2 , -1 )\n",
        "z2 = mp_neuron(2 , 0 , -1)\n",
        "#------------------\n",
        "y0 = mp_neuron(2,2,2)\n",
        "y1 = mp_neuron(2,0,2)\n",
        "y2 = mp_neuron(2,0,2)\n",
        "#------------------\n",
        "\n",
        "\n",
        "print(\"insert your input : /n\")\n",
        "x0 = int(input(\"X0 : \"))\n",
        "x1 = int(input(\"X1 : \"))\n",
        "x2 = int(input(\"X2 : \"))\n",
        "#---------------\n",
        "z0.setInput(x0 , x1 , x2 )\n",
        "z1.setInput(x0 , x1 , x2 )\n",
        "z2.setInput(x0 , x1 , x2 )\n",
        "#----------------\n",
        "y0.setInput(z0.getH() , z1.getH() , z2.getH())\n",
        "y1.setInput(x0 , x1 , x2)\n",
        "y2.setInput(z0.getH() , z1.getH() , z2.getH())\n",
        "#---\n",
        "print(\" y0 = \" , y0.getH() , \"\\n y1 = \" ,y1.getH() , \"\\n y2 = \" ,y2.getH())"
      ]
    }
  ]
}