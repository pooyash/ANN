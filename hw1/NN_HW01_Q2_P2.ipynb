{
  "nbformat": 4,
  "nbformat_minor": 0,
  "metadata": {
    "colab": {
      "provenance": []
    },
    "kernelspec": {
      "name": "python3",
      "display_name": "Python 3"
    },
    "language_info": {
      "name": "python"
    }
  },
  "cells": [
    {
      "cell_type": "code",
      "source": [
        "import numpy as np\n",
        "import matplotlib.pyplot  as plt\n",
        "import pandas as pd\n",
        "from random import random , seed\n",
        "seed(10)"
      ],
      "metadata": {
        "id": "wkCuyrNvy_7C"
      },
      "execution_count": 41,
      "outputs": []
    },
    {
      "cell_type": "code",
      "source": [
        "#Define a class with the charectristics of adaline neuron\n",
        "class madaline_neuron:\n",
        "\n",
        "    # one can change these constants\n",
        "    def __init__(self , in_num , w , b):\n",
        "        self.in_num = in_num\n",
        "        self.w = w\n",
        "        self.alpha = 0.01\n",
        "        self.threshold = b\n",
        "        self.net = 0\n",
        "        self.h = 0\n",
        "\n",
        "    def setInput(self , i):\n",
        "        input = np.transpose(i)\n",
        "        self.net = np.sum(np.matmul(self.w , input)) + self.threshold\n",
        "\n",
        "    def getH(self):\n",
        "        if self.net >= 0 : self.h = 1\n",
        "        else : self.h = -1\n",
        "        return self.h\n",
        "\n",
        "    def getNet(self):\n",
        "        return self.net\n",
        "\n",
        "    def getW(self):\n",
        "        return self.w\n",
        "\n",
        "    def getThreshold(self):\n",
        "        return self.threshold\n",
        "\n",
        "    def learn(self , sx , sy ,t ,num):\n",
        "        i=0\n",
        "        #start using the formula to find the right weights and biyas\n",
        "        temp =[]\n",
        "        for i in range(num):\n",
        "            self.setInput([sx , sy])\n",
        "            self.w[0] = self.w[0] + (self.alpha * (t - self.net) * sx )\n",
        "            self.w[1] = self.w[1] + (self.alpha * (t - self.net) * sy )\n",
        "            #find the right biyas\n",
        "            self.threshold = self.threshold + (self.alpha * (t - self.net))\n",
        "            temp.append(1/2 * ((t - self.net)**2))\n",
        "        return temp\n",
        "\n",
        "    def isEnough(self , sx , sy , t ,num):\n",
        "        CONST_ERROR_THRESHOLD = 1\n",
        "        flag = False\n",
        "        for i in range (num):\n",
        "            self.setInput(sx[i] , sy[i])\n",
        "           # print((t - self.net)**2)\n",
        "            if ((t - self.net) **2) > CONST_ERROR_THRESHOLD : \n",
        "                flag = True\n",
        "        return flag\n",
        "\n",
        "               "
      ],
      "metadata": {
        "id": "Kppw1M0By9hA"
      },
      "execution_count": 49,
      "outputs": []
    },
    {
      "cell_type": "code",
      "execution_count": 5,
      "metadata": {
        "colab": {
          "base_uri": "https://localhost:8080/",
          "height": 282
        },
        "id": "SKkMrsrUxUF3",
        "outputId": "586b90b0-c6b3-4450-93aa-4b60719508a2"
      },
      "outputs": [
        {
          "output_type": "execute_result",
          "data": {
            "text/plain": [
              "<matplotlib.collections.PathCollection at 0x7f34e95be730>"
            ]
          },
          "metadata": {},
          "execution_count": 5
        },
        {
          "output_type": "display_data",
          "data": {
            "text/plain": [
              "<Figure size 432x288 with 1 Axes>"
            ],
            "image/png": "[encoded data removed]"
          },
          "metadata": {
            "needs_background": "light"
          }
        }
      ],
      "source": [
        "#Read data from csv\n",
        "headers = ['X', 'Y', 'T']\n",
        "df = pd.read_csv('/content/MadaLine.csv' , names=headers)\n",
        "df = df.reset_index()  # make sure indexes pair with number of rows\n",
        "\n",
        "#Apply data into lists\n",
        "xData01 =[]\n",
        "yData01 = []\n",
        "xData02 =[]\n",
        "yData02 = []\n",
        "\n",
        "for index, row in df.iterrows():\n",
        "    if row['T'] == 1:\n",
        "        xData01 = xData01 + [row['X']]\n",
        "        yData01 = yData01 + [row['Y']]\n",
        "    else: \n",
        "        xData02 = xData02 + [row['X']]\n",
        "        yData02 = yData02 + [row['Y']]\n",
        "plt.scatter(xData01 , yData01)\n",
        "plt.scatter(xData02 , yData02)"
      ]
    },
    {
      "cell_type": "code",
      "source": [
        "#Start the algorithem \n",
        "#Initiate neurons with small numbers for thier weights\n",
        "z0 = madaline_neuron(2 , [random()-0.5 , random()-0.5 ] , random()-0.5)\n",
        "z1 = madaline_neuron(2 , [random()-0.5 , random()-0.5 ] , random()-0.5)\n",
        "z2 = madaline_neuron(2 , [random()-0.5 , random()-0.5 ] , random()-0.5)\n",
        "neuron_list = [z0 , z1 , z2]\n",
        "#---\n",
        "y0 = madaline_neuron(3 , [0.5 , 0.5 , 0.5 ]  , 0.5)\n",
        "#---\n",
        "ct=0\n",
        "nem = [1 , 1]\n",
        "#keep going until the conditions are satisfied \n",
        "while(nem[0] != 0 and nem[1] != 0 ):\n",
        "    nem[0] = 0\n",
        "    nem[1] = 0\n",
        "    for index, row in df.iterrows():                          #for every input in dataset\n",
        "        h_list = []                                           #list for outputs of neurons\n",
        "        net_list = []                                         #list for net of neurons\n",
        "        for neuron in neuron_list:                            #set the inputs of neurons in hidden layer \n",
        "            neuron.setInput([row['X'] , row['Y']])\n",
        "            h_list.append(neuron.getH())\n",
        "            net_list.append(neuron.getNet())\n",
        "        y0.setInput(h_list)                                   #Give the output of hidden layer neurons to output layer\n",
        "        outy0 = y0.getH()                                     #Get the output\n",
        "        if (row['T']==1 and  outy0== -1) :                    #If output = 1  and target = -1 changes weights of the nuron witch it's net is closest to 0\n",
        "            valtemp = net_list[0]\n",
        "            indextemp = 0\n",
        "            for i in range(len(net_list)):\n",
        "                if net_list[i] > valtemp : indextemp = i\n",
        "            neuron_list[indextemp].learn(row['X'] , row['Y'] , 1 , 1)\n",
        "            nem[0] +=1\n",
        "        elif (row['T']==0 and  outy0== 1) :                   #If output = 1 and target = -1 change every neuron witch it's net is not negative\n",
        "            for i in range(len(net_list)):\n",
        "                if net_list[i] > 0 : neuron_list[i].learn(row['X'] , row['Y'] , -1 , 1)\n",
        "            nem[1] +=1\n",
        "    if (ct>500):break\n",
        "    ct += 1\n",
        "#-------------------------------------------------------------------------------------------------------------\n",
        "#Checking the resault \n",
        "result = [0 , 0]\n",
        "for index, row in df.iterrows():                          #for every input in dataset\n",
        "    h_list = []\n",
        "    for neuron in neuron_list:\n",
        "        neuron.setInput([row['X'] , row['Y']])\n",
        "        h_list.append(neuron.getH())\n",
        "    y0.setInput(h_list)                                   #Give the output of hidden layer neurons to output layer\n",
        "    outy0 = y0.getH()\n",
        "    if ((outy0 == 1 and row['T'] == 1) or (outy0 == -1 and row['T'] == 0)): result[0] +=1\n",
        "    elif ((outy0 == 1 and row['T'] == 0) or (outy0 == -1 and row['T'] == 1)) : result[1] +=1\n",
        "print((result[0]/(result[0] + result[1])*100) , \"percent of answers were correct\")\n",
        "\n"
      ],
      "metadata": {
        "colab": {
          "base_uri": "https://localhost:8080/"
        },
        "id": "S_nwrqjFzG4N",
        "outputId": "62fe9462-2d4e-4353-fa49-ceb622a6d8b4"
      },
      "execution_count": 64,
      "outputs": [
        {
          "output_type": "stream",
          "name": "stdout",
          "text": [
            "74.5 percent of answers were correct\n"
          ]
        }
      ]
    },
    {
      "cell_type": "code",
      "source": [
        "#Defining the categorizer line\n",
        "z0_line = np.linspace(-2, 2, 100)\n",
        "z1_line = np.linspace(-2, 2, 100)\n",
        "z2_line = np.linspace(-2, 2, 100)\n",
        "\n",
        "#Reciving weights and biyas of our neuron\n",
        "weightsZ0 = z0.getW()\n",
        "weightsZ1 = z1.getW()\n",
        "weightsZ2 = z2.getW()\n",
        "\n",
        "bZ0 = z0.getThreshold()\n",
        "bZ1 = z1.getThreshold()\n",
        "bZ2 = z2.getThreshold()\n",
        "\n",
        "\n",
        "#put the calculated variables into the line\n",
        "y_line_Z0 = ((weightsZ0[0] * z0_line) + bZ0) /-weightsZ0[1]\n",
        "y_line_Z1 = ((weightsZ1[0] * z1_line) + bZ1) /-weightsZ1[1]\n",
        "y_line_Z2 = ((weightsZ2[0] * z2_line) + bZ2) /-weightsZ2[1]\n",
        "\n",
        "#Plot the data\n",
        "print(\"Plotting\")\n",
        "\n",
        "plt.scatter(xData01 , yData01)\n",
        "plt.scatter(xData02 , yData02)\n",
        "plt.plot(z0_line ,y_line_Z0 , 'blue')\n",
        "plt.plot(z1_line ,y_line_Z1 , 'red')\n",
        "plt.plot(z2_line ,y_line_Z2 , 'yellow')\n",
        "\n",
        "plt.show()"
      ],
      "metadata": {
        "colab": {
          "base_uri": "https://localhost:8080/",
          "height": 282
        },
        "id": "EkQsC2Y9zRho",
        "outputId": "dda1a1a8-1919-400e-aa26-9ab98d5b514f"
      },
      "execution_count": 65,
      "outputs": [
        {
          "output_type": "stream",
          "name": "stdout",
          "text": [
            "Plotting\n"
          ]
        },
        {
          "output_type": "display_data",
          "data": {
            "text/plain": [
              "<Figure size 432x288 with 1 Axes>"
            ],
            "image/png": "[encoded data removed]"
          },
          "metadata": {
            "needs_background": "light"
          }
        }
      ]
    },
    {
      "cell_type": "code",
      "source": [
        "#Start the algorithem \n",
        "#Initiate neurons with small numbers for thier weights\n",
        "z0 = madaline_neuron(2 , [random()-0.5 , random()-0.5 ] , random()-0.5)\n",
        "z1 = madaline_neuron(2 , [random()-0.5 , random()-0.5 ] , random()-0.5)\n",
        "z2 = madaline_neuron(2 , [random()-0.5 , random()-0.5 ] , random()-0.5)\n",
        "z3 = madaline_neuron(2 , [random()-0.5 , random()-0.5 ] , random()-0.5)\n",
        "neuron_list = [z0 , z1 , z2 , z3]\n",
        "#---\n",
        "y0 = madaline_neuron(4 , [0.5 , 0.5 , 0.5 , 0.5]  , 1)\n",
        "#---\n",
        "ct=0\n",
        "nem = [1 , 1]\n",
        "#keep going until the conditions are satisfied \n",
        "while(nem[0] != 0 and nem[1] != 0 ):\n",
        "    nem[0] = 0\n",
        "    nem[1] = 0\n",
        "    for index, row in df.iterrows():                          #for every input in dataset\n",
        "        h_list = []                                           #list for outputs of neurons\n",
        "        net_list = []                                         #list for net of neurons\n",
        "        for neuron in neuron_list:                            #set the inputs of neurons in hidden layer \n",
        "            neuron.setInput([row['X'] , row['Y']])\n",
        "            h_list.append(neuron.getH())\n",
        "            net_list.append(neuron.getNet())\n",
        "        y0.setInput(h_list)                                   #Give the output of hidden layer neurons to output layer\n",
        "        outy0 = y0.getH()                                     #Get the output\n",
        "        if (row['T']==1 and  outy0== -1) :                    #If output = 1  and target = -1 changes weights of the nuron witch it's net is closest to 0\n",
        "            valtemp = net_list[0]\n",
        "            indextemp = 0\n",
        "            for i in range(len(net_list)):\n",
        "                if net_list[i] > valtemp : indextemp = i\n",
        "            neuron_list[indextemp].learn(row['X'] , row['Y'] , 1 , 1)\n",
        "            nem[0] +=1\n",
        "        elif (row['T']==0 and  outy0== 1) :                   #If output = 1 and target = -1 change every neuron witch it's net is not negative\n",
        "            for i in range(len(net_list)):\n",
        "                if net_list[i] > 0 : neuron_list[i].learn(row['X'] , row['Y'] , -1 , 1)\n",
        "            nem[1] +=1\n",
        "    if (ct>130):break\n",
        "    ct += 1\n",
        "#-------------------------------------------------------------------------------------------------------------\n",
        "#Checking the resault \n",
        "result = [0 , 0]\n",
        "for index, row in df.iterrows():                          #for every input in dataset\n",
        "    h_list = []\n",
        "    for neuron in neuron_list:\n",
        "        neuron.setInput([row['X'] , row['Y']])\n",
        "        h_list.append(neuron.getH())\n",
        "    y0.setInput(h_list)                                   #Give the output of hidden layer neurons to output layer\n",
        "    outy0 = y0.getH()\n",
        "    if ((outy0 == 1 and row['T'] == 1) or (outy0 == -1 and row['T'] == 0)): result[0] +=1\n",
        "    elif ((outy0 == 1 and row['T'] == 0) or (outy0 == -1 and row['T'] == 1)) : result[1] +=1\n",
        "print((result[0]/(result[0] + result[1])*100) , \"percent of answers were correct\")"
      ],
      "metadata": {
        "colab": {
          "base_uri": "https://localhost:8080/"
        },
        "id": "U7M2HfXczYg_",
        "outputId": "64f1a5c9-2ba3-4ace-b7de-7189d5a5616c"
      },
      "execution_count": 55,
      "outputs": [
        {
          "output_type": "stream",
          "name": "stdout",
          "text": [
            "100.0 percent of answers were correct\n"
          ]
        }
      ]
    },
    {
      "cell_type": "code",
      "source": [
        "#Defining the categorizer line\n",
        "z0_line = np.linspace(-2, 2, 100)\n",
        "z1_line = np.linspace(-2, 2, 100)\n",
        "z2_line = np.linspace(-2, 2, 100)\n",
        "z3_line = np.linspace(-2, 2, 100)\n",
        "\n",
        "#Reciving weights and biyas of our neuron\n",
        "weightsZ0 = z0.getW()\n",
        "weightsZ1 = z1.getW()\n",
        "weightsZ2 = z2.getW()\n",
        "weightsZ3 = z3.getW()\n",
        "\n",
        "bZ0 = z0.getThreshold()\n",
        "bZ1 = z1.getThreshold()\n",
        "bZ2 = z2.getThreshold()\n",
        "bZ3 = z3.getThreshold()\n",
        "\n",
        "\n",
        "#put the calculated variables into the line\n",
        "y_line_Z0 = ((weightsZ0[0] * z0_line) + bZ0) /-weightsZ0[1]\n",
        "y_line_Z1 = ((weightsZ1[0] * z1_line) + bZ1) /-weightsZ1[1]\n",
        "y_line_Z2 = ((weightsZ2[0] * z2_line) + bZ2) /-weightsZ2[1]\n",
        "y_line_Z3 = ((weightsZ3[0] * z3_line) + bZ3) /-weightsZ3[1]\n",
        "\n",
        "\n",
        "#Plot the data\n",
        "print(\"Plotting\")\n",
        "\n",
        "plt.scatter(xData01 , yData01)\n",
        "plt.scatter(xData02 , yData02)\n",
        "plt.plot(z0_line ,y_line_Z0 , 'blue')\n",
        "plt.plot(z1_line ,y_line_Z1 , 'red')\n",
        "plt.plot(z2_line ,y_line_Z2 , 'yellow')\n",
        "plt.plot(z3_line ,y_line_Z3 , 'green')\n",
        "\n",
        "plt.show()\n"
      ],
      "metadata": {
        "colab": {
          "base_uri": "https://localhost:8080/",
          "height": 282
        },
        "id": "-pNGYKhSz7t9",
        "outputId": "d544be95-3ea9-47e7-c664-8096ba3b0fcc"
      },
      "execution_count": 56,
      "outputs": [
        {
          "output_type": "stream",
          "name": "stdout",
          "text": [
            "Plotting\n"
          ]
        },
        {
          "output_type": "display_data",
          "data": {
            "text/plain": [
              "<Figure size 432x288 with 1 Axes>"
            ],
            "image/png": "[encoded data removed]"
          },
          "metadata": {
            "needs_background": "light"
          }
        }
      ]
    },
    {
      "cell_type": "code",
      "source": [
        "#Start the algorithem \n",
        "#Initiate neurons with small numbers for thier weights\n",
        "z0 = madaline_neuron(2 , [random()-0.5 , random()-0.5 ] , random()-0.5)\n",
        "z1 = madaline_neuron(2 , [random()-0.5 , random()-0.5 ] , random()-0.5)\n",
        "z2 = madaline_neuron(2 , [random()-0.5 , random()-0.5 ] , random()-0.5)\n",
        "z3 = madaline_neuron(2 , [random()-0.5 , random()-0.5 ] , random()-0.5)\n",
        "z4 = madaline_neuron(2 , [random()-0.5 , random()-0.5 ] , random()-0.5)\n",
        "z5 = madaline_neuron(2 , [random()-0.5 , random()-0.5 ] , random()-0.5)\n",
        "z6 = madaline_neuron(2 , [random()-0.5 , random()-0.5 ] , random()-0.5)\n",
        "z7 = madaline_neuron(2 , [random()-0.5 , random() -0.5] , random()-0.5)\n",
        "z8 = madaline_neuron(2 , [random()-0.5 , random()-0.5 ] , random()-0.5)\n",
        "z9 = madaline_neuron(2 , [random()-0.5 , random()-0.5 ] , random()-0.5)\n",
        "neuron_list = [z0 , z1 , z2 , z3 , z4 , z5 , z6 , z7 , z8 , z9]\n",
        "#---\n",
        "y0 = madaline_neuron(8 , [0.5 , 0.5 , 0.5 , 0.5 , 0.5 , 0.5 , 0.5 , 0.5 ,0.5 , 0.5]  , 3)\n",
        "#---\n",
        "ct=0\n",
        "nem = [1 , 1]\n",
        "#keep going until the conditions are satisfied \n",
        "while(nem[0] != 0 and nem[1] != 0 ):\n",
        "    nem[0] = 0\n",
        "    nem[1] = 0\n",
        "    for index, row in df.iterrows():                          #for every input in dataset\n",
        "        h_list = []                                           #list for outputs of neurons\n",
        "        net_list = []                                         #list for net of neurons\n",
        "        for neuron in neuron_list:                            #set the inputs of neurons in hidden layer \n",
        "            neuron.setInput([row['X'] , row['Y']])\n",
        "            h_list.append(neuron.getH())\n",
        "            net_list.append(neuron.getNet())\n",
        "\n",
        "        y0.setInput(h_list)                                   #Give the output of hidden layer neurons to output layer\n",
        "        outy0 = y0.getH()                                     #Get the output\n",
        "        if (row['T']==1 and  outy0== -1) :                    #If output = 1  and target = -1 changes weights of the nuron witch it's net is closest to 0\n",
        "            valtemp = net_list[0]\n",
        "            indextemp = 0\n",
        "            for i in range(len(net_list)):\n",
        "                if net_list[i] > valtemp : indextemp = i\n",
        "            neuron_list[indextemp].learn(row['X'] , row['Y'] , 1 , 1)\n",
        "            nem[0] +=1\n",
        "        elif (row['T']==0 and  outy0== 1) :                   #If output = 1 and target = -1 change every neuron witch it's net is not negative\n",
        "            for i in range(len(net_list)):\n",
        "\n",
        "                if net_list[i] > 0 : neuron_list[i].learn(row['X'] , row['Y'] , -1 , 1)\n",
        "            nem[1] +=1\n",
        "    if (ct>40):break\n",
        "    ct += 1\n",
        "#-------------------------------------------------------------------------------------------------------------\n",
        "#Checking the resault \n",
        "result = [0 , 0]\n",
        "for index, row in df.iterrows():                          #for every input in dataset\n",
        "    h_list = []\n",
        "    for neuron in neuron_list:\n",
        "        neuron.setInput([row['X'] , row['Y']])\n",
        "        h_list.append(neuron.getH())\n",
        "    y0.setInput(h_list)                                   #Give the output of hidden layer neurons to output layer\n",
        "    outy0 = y0.getH()\n",
        "    if ((outy0 == 1 and row['T'] == 1) or (outy0 == -1 and row['T'] == 0)): result[0] +=1\n",
        "    elif ((outy0 == 1 and row['T'] == 0) or (outy0 == -1 and row['T'] == 1)) : result[1] +=1\n",
        "print((result[0]/(result[0] + result[1])*100) , \"percent of answers were correct\")"
      ],
      "metadata": {
        "colab": {
          "base_uri": "https://localhost:8080/"
        },
        "id": "Mv8IWVIFz-b1",
        "outputId": "1a2c5c8a-880d-4167-a0d5-08c46fb604e1"
      },
      "execution_count": 78,
      "outputs": [
        {
          "output_type": "stream",
          "name": "stdout",
          "text": [
            "100.0 percent of answers were correct\n"
          ]
        }
      ]
    },
    {
      "cell_type": "code",
      "source": [
        "#Defining the categorizer line\n",
        "z0_line = np.linspace(-1, 1, 100)\n",
        "z1_line = np.linspace(-1, 1, 100)\n",
        "z2_line = np.linspace(-1, 1, 100)\n",
        "z3_line = np.linspace(-1, 1, 100)\n",
        "z4_line = np.linspace(-1, 1, 100)\n",
        "z5_line = np.linspace(-1, 1, 100)\n",
        "z6_line = np.linspace(-1, 1, 100)\n",
        "z7_line = np.linspace(-1, 1, 100)\n",
        "z8_line = np.linspace(-1, 1, 100)\n",
        "z9_line = np.linspace(-1, 1, 100)\n",
        "\n",
        "#Reciving weights and biyas of our neuron\n",
        "weightsZ0 = z0.getW()\n",
        "weightsZ1 = z1.getW()\n",
        "weightsZ2 = z2.getW()\n",
        "weightsZ3 = z3.getW()\n",
        "weightsZ4 = z4.getW()\n",
        "weightsZ5 = z5.getW()\n",
        "weightsZ6 = z6.getW()\n",
        "weightsZ7 = z7.getW()\n",
        "weightsZ8 = z8.getW()\n",
        "weightsZ9 = z9.getW()\n",
        "\n",
        "bZ0 = z0.getThreshold()\n",
        "bZ1 = z1.getThreshold()\n",
        "bZ2 = z2.getThreshold()\n",
        "bZ3 = z3.getThreshold()\n",
        "bZ4 = z4.getThreshold()\n",
        "bZ5 = z5.getThreshold()\n",
        "bZ6 = z6.getThreshold()\n",
        "bZ7 = z7.getThreshold()\n",
        "bZ8 = z8.getThreshold()\n",
        "bZ9 = z9.getThreshold()\n",
        "\n",
        "#put the calculated variables into the line\n",
        "y_line_Z0 = ((weightsZ0[0] * z0_line) + bZ0) /-weightsZ0[1]\n",
        "y_line_Z1 = ((weightsZ1[0] * z1_line) + bZ1) /-weightsZ1[1]\n",
        "y_line_Z2 = ((weightsZ2[0] * z2_line) + bZ2) /-weightsZ2[1]\n",
        "y_line_Z3 = ((weightsZ3[0] * z3_line) + bZ3) /-weightsZ3[1]\n",
        "y_line_Z4 = ((weightsZ4[0] * z4_line) + bZ4) /-weightsZ4[1]\n",
        "y_line_Z5 = ((weightsZ5[0] * z5_line) + bZ5) /-weightsZ5[1]\n",
        "y_line_Z6 = ((weightsZ6[0] * z6_line) + bZ6) /-weightsZ6[1]\n",
        "y_line_Z7 = ((weightsZ7[0] * z7_line) + bZ7) /-weightsZ7[1]\n",
        "y_line_Z8 = ((weightsZ8[0] * z8_line) + bZ8) /-weightsZ8[1]\n",
        "y_line_Z9 = ((weightsZ9[0] * z9_line) + bZ9) /-weightsZ9[1]\n",
        "\n",
        "#Plot the data\n",
        "print(\"Plotting\")\n",
        "\n",
        "plt.scatter(xData01 , yData01)\n",
        "plt.scatter(xData02 , yData02)\n",
        "plt.plot(z0_line ,y_line_Z0 , 'blue')\n",
        "plt.plot(z1_line ,y_line_Z1 , 'red')\n",
        "plt.plot(z2_line ,y_line_Z2 , 'yellow')\n",
        "plt.plot(z3_line ,y_line_Z3 , 'green')\n",
        "plt.plot(z4_line ,y_line_Z4  )\n",
        "plt.plot(z5_line ,y_line_Z5  )\n",
        "plt.plot(z6_line ,y_line_Z6  )\n",
        "plt.plot(z7_line ,y_line_Z7  )\n",
        "plt.plot(z6_line ,y_line_Z8  )\n",
        "plt.plot(z7_line ,y_line_Z9  )\n",
        "\n",
        "plt.show()\n"
      ],
      "metadata": {
        "colab": {
          "base_uri": "https://localhost:8080/",
          "height": 282
        },
        "id": "zeOZIpbf0n8C",
        "outputId": "9ae6578d-cd77-4753-8f13-ce7b61dabb89"
      },
      "execution_count": 79,
      "outputs": [
        {
          "output_type": "stream",
          "name": "stdout",
          "text": [
            "Plotting\n"
          ]
        },
        {
          "output_type": "display_data",
          "data": {
            "text/plain": [
              "<Figure size 432x288 with 1 Axes>"
            ],
            "image/png": "[encoded data removed]"
          },
          "metadata": {
            "needs_background": "light"
          }
        }
      ]
    }
  ]
}