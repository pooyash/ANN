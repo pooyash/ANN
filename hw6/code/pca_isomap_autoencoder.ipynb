{
 "cells": [
  {
   "cell_type": "code",
   "execution_count": 21,
   "metadata": {},
   "outputs": [],
   "source": [
    "import numpy as np\n",
    "import matplotlib.pyplot as plt\n",
    "\n",
    "import tensorflow as tf\n",
    "from tensorflow import keras\n",
    "from tensorflow.keras.models import Model\n",
    "from tensorflow.keras import layers,optimizers,losses\n",
    "from tensorflow.keras.datasets import fashion_mnist\n",
    "\n",
    "from sklearn.model_selection import RandomizedSearchCV\n",
    "from sklearn.neighbors import KNeighborsClassifier"
   ]
  },
  {
   "attachments": {},
   "cell_type": "markdown",
   "metadata": {},
   "source": [
    "#  Read data"
   ]
  },
  {
   "cell_type": "code",
   "execution_count": 22,
   "metadata": {},
   "outputs": [],
   "source": [
    "(x_train,y_train),(x_test,y_test) = fashion_mnist.load_data()\n",
    "x_train = np.expand_dims(x_train,axis=3)/255.\n",
    "x_test = np.expand_dims(x_test,axis=3)/255.\n",
    "flatten_x_train = np.reshape(x_train,(x_train.shape[0],-1))\n",
    "flatten_x_test = np.reshape(x_test,(x_test.shape[0],-1))"
   ]
  },
  {
   "attachments": {},
   "cell_type": "markdown",
   "metadata": {},
   "source": [
    "# PCA"
   ]
  },
  {
   "cell_type": "code",
   "execution_count": 3,
   "metadata": {},
   "outputs": [
    {
     "name": "stdout",
     "output_type": "stream",
     "text": [
      "knn score for pca reduction on train dataset :  0.9082166666666667\n",
      "knn score for pca reduction on test dataset :  0.8577\n"
     ]
    }
   ],
   "source": [
    "from sklearn.decomposition import PCA\n",
    "pca =  PCA()\n",
    "pca.fit(flatten_x_train[:1000])\n",
    "pca_x_train = pca.transform(flatten_x_train)\n",
    "pca_x_test = pca.transform(flatten_x_test)\n",
    "\n",
    "knn = KNeighborsClassifier()\n",
    "param_distributions = {\"n_neighbors\":list(range(1,30))}\n",
    "clf = RandomizedSearchCV(knn,param_distributions,cv=10)\n",
    "clf.fit(pca_x_train,y_train)\n",
    "\n",
    "knn_pca = clf.best_estimator_\n",
    "print('knn score for pca reduction on train dataset : ',knn_pca.score(pca_x_train,y_train))\n",
    "print('knn score for pca reduction on test dataset : ',knn_pca.score(pca_x_test,y_test))\n"
   ]
  },
  {
   "attachments": {},
   "cell_type": "markdown",
   "metadata": {},
   "source": [
    "# ISOMAP"
   ]
  },
  {
   "cell_type": "code",
   "execution_count": 4,
   "metadata": {},
   "outputs": [
    {
     "name": "stdout",
     "output_type": "stream",
     "text": [
      "knn score for isomap reduction on train dataset :  0.7091833333333334\n",
      "knn score for isomap reduction on test dataset :  0.6826\n"
     ]
    }
   ],
   "source": [
    "from sklearn.manifold import Isomap\n",
    "isomap = Isomap()\n",
    "isomap.fit(flatten_x_train[:1000])\n",
    "isomap_x_train = isomap.transform(flatten_x_train)\n",
    "isomap_x_test = isomap.transform(flatten_x_test)\n",
    "\n",
    "knn = KNeighborsClassifier()\n",
    "param_distributions = {\"n_neighbors\":list(range(1,30))}\n",
    "clf = RandomizedSearchCV(knn,param_distributions,cv=10)\n",
    "clf.fit(isomap_x_train,y_train)\n",
    "\n",
    "knn_isomap = clf.best_estimator_\n",
    "print('knn score for isomap reduction on train dataset : ',knn_isomap.score(isomap_x_train,y_train))\n",
    "print('knn score for isomap reduction on test dataset : ',knn_isomap.score(isomap_x_test,y_test))"
   ]
  },
  {
   "attachments": {},
   "cell_type": "markdown",
   "metadata": {},
   "source": [
    "# ENCODER & DECODER"
   ]
  },
  {
   "attachments": {},
   "cell_type": "markdown",
   "metadata": {},
   "source": [
    "### Dense"
   ]
  },
  {
   "cell_type": "code",
   "execution_count": 5,
   "metadata": {},
   "outputs": [],
   "source": [
    "class DenseAutoencoder(Model):\n",
    "    def __init__(self, hidden_dim, latent_dimension,original_dim):\n",
    "        super(DenseAutoencoder, self).__init__()\n",
    "        self.encoder1 = layers.Dense(units=hidden_dim, activation=tf.nn.relu)\n",
    "        self.encoder2 = layers.Dense(units=hidden_dim//2, activation=tf.nn.relu)\n",
    "        self.encoder3 = layers.Dense(units=latent_dimension, activation=tf.nn.relu)\n",
    "        self.decoder1 = layers.Dense(units=hidden_dim//2, activation=tf.nn.relu)\n",
    "        self.decoder2 = layers.Dense(units=hidden_dim, activation=tf.nn.relu)\n",
    "        self.decoder3 = layers.Dense(units=original_dim, activation=tf.nn.relu)\n",
    "\n",
    "    def call(self, input_features):\n",
    "        encoded = self.encode(input_features)\n",
    "        reconstructed = self.decode(encoded)\n",
    "        return reconstructed\n",
    "    \n",
    "    def encode(self, input_features):\n",
    "        encoded = self.encoder1(input_features)\n",
    "        encoded = self.encoder2(encoded)\n",
    "        encoded = self.encoder3(encoded)\n",
    "        return encoded\n",
    "    \n",
    "    def decode(self, encoded):\n",
    "        reconstructed = self.decoder1(encoded)\n",
    "        reconstructed = self.decoder2(reconstructed)\n",
    "        reconstructed = self.decoder3(reconstructed)\n",
    "        return reconstructed\n",
    "        "
   ]
  },
  {
   "cell_type": "code",
   "execution_count": 6,
   "metadata": {},
   "outputs": [],
   "source": [
    "batch_size = 256\n",
    "max_epochs = 50\n",
    "learning_rate = 1e-3\n",
    "original_dim = x_train.shape[1]* x_train.shape[2]\n"
   ]
  },
  {
   "attachments": {},
   "cell_type": "markdown",
   "metadata": {},
   "source": [
    "#### latent_dimension= 20\n"
   ]
  },
  {
   "cell_type": "code",
   "execution_count": 7,
   "metadata": {},
   "outputs": [
    {
     "name": "stdout",
     "output_type": "stream",
     "text": [
      "Epoch 1/50\n"
     ]
    },
    {
     "name": "stderr",
     "output_type": "stream",
     "text": [
      "2023-06-30 09:16:39.469061: W tensorflow/tsl/platform/profile_utils/cpu_utils.cc:128] Failed to get CPU frequency: 0 Hz\n"
     ]
    },
    {
     "name": "stdout",
     "output_type": "stream",
     "text": [
      "235/235 [==============================] - 5s 19ms/step - loss: 0.2481 - val_loss: 0.2457\n",
      "Epoch 2/50\n",
      "235/235 [==============================] - 3s 14ms/step - loss: 0.2438 - val_loss: 0.2419\n",
      "Epoch 3/50\n",
      "235/235 [==============================] - 4s 16ms/step - loss: 0.2403 - val_loss: 0.2388\n",
      "Epoch 4/50\n",
      "235/235 [==============================] - 4s 17ms/step - loss: 0.2376 - val_loss: 0.2362\n",
      "Epoch 5/50\n",
      "235/235 [==============================] - 4s 17ms/step - loss: 0.2350 - val_loss: 0.2338\n",
      "Epoch 6/50\n",
      "235/235 [==============================] - 4s 16ms/step - loss: 0.2326 - val_loss: 0.2312\n",
      "Epoch 7/50\n",
      "235/235 [==============================] - 4s 15ms/step - loss: 0.2299 - val_loss: 0.2284\n",
      "Epoch 8/50\n",
      "235/235 [==============================] - 4s 16ms/step - loss: 0.2270 - val_loss: 0.2255\n",
      "Epoch 9/50\n",
      "235/235 [==============================] - 4s 16ms/step - loss: 0.2240 - val_loss: 0.2224\n",
      "Epoch 10/50\n",
      "235/235 [==============================] - 4s 17ms/step - loss: 0.2208 - val_loss: 0.2193\n",
      "Epoch 11/50\n",
      "235/235 [==============================] - 4s 16ms/step - loss: 0.2179 - val_loss: 0.2166\n",
      "Epoch 12/50\n",
      "235/235 [==============================] - 4s 16ms/step - loss: 0.2155 - val_loss: 0.2145\n",
      "Epoch 13/50\n",
      "235/235 [==============================] - 4s 17ms/step - loss: 0.2136 - val_loss: 0.2129\n",
      "Epoch 14/50\n",
      "235/235 [==============================] - 4s 16ms/step - loss: 0.2123 - val_loss: 0.2117\n",
      "Epoch 15/50\n",
      "235/235 [==============================] - 4s 17ms/step - loss: 0.2112 - val_loss: 0.2108\n",
      "Epoch 16/50\n",
      "235/235 [==============================] - 4s 15ms/step - loss: 0.2104 - val_loss: 0.2100\n",
      "Epoch 17/50\n",
      "235/235 [==============================] - 4s 17ms/step - loss: 0.2096 - val_loss: 0.2093\n",
      "Epoch 18/50\n",
      "235/235 [==============================] - 4s 17ms/step - loss: 0.2089 - val_loss: 0.2085\n",
      "Epoch 19/50\n",
      "235/235 [==============================] - 4s 15ms/step - loss: 0.2081 - val_loss: 0.2077\n",
      "Epoch 20/50\n",
      "235/235 [==============================] - 4s 17ms/step - loss: 0.2074 - val_loss: 0.2070\n",
      "Epoch 21/50\n",
      "235/235 [==============================] - 4s 15ms/step - loss: 0.2066 - val_loss: 0.2063\n",
      "Epoch 22/50\n",
      "235/235 [==============================] - 4s 16ms/step - loss: 0.2060 - val_loss: 0.2058\n",
      "Epoch 23/50\n",
      "235/235 [==============================] - 4s 15ms/step - loss: 0.2055 - val_loss: 0.2054\n",
      "Epoch 24/50\n",
      "235/235 [==============================] - 4s 15ms/step - loss: 0.2052 - val_loss: 0.2051\n",
      "Epoch 25/50\n",
      "235/235 [==============================] - 4s 16ms/step - loss: 0.2049 - val_loss: 0.2048\n",
      "Epoch 26/50\n",
      "235/235 [==============================] - 4s 15ms/step - loss: 0.2046 - val_loss: 0.2045\n",
      "Epoch 27/50\n",
      "235/235 [==============================] - 4s 17ms/step - loss: 0.2042 - val_loss: 0.2041\n",
      "Epoch 28/50\n",
      "235/235 [==============================] - 4s 16ms/step - loss: 0.2038 - val_loss: 0.2037\n",
      "Epoch 29/50\n",
      "235/235 [==============================] - 4s 17ms/step - loss: 0.2034 - val_loss: 0.2032\n",
      "Epoch 30/50\n",
      "235/235 [==============================] - 4s 15ms/step - loss: 0.2030 - val_loss: 0.2029\n",
      "Epoch 31/50\n",
      "235/235 [==============================] - 4s 15ms/step - loss: 0.2027 - val_loss: 0.2025\n",
      "Epoch 32/50\n",
      "235/235 [==============================] - 4s 16ms/step - loss: 0.2023 - val_loss: 0.2021\n",
      "Epoch 33/50\n",
      "235/235 [==============================] - 4s 15ms/step - loss: 0.2018 - val_loss: 0.2017\n",
      "Epoch 34/50\n",
      "235/235 [==============================] - 4s 18ms/step - loss: 0.2015 - val_loss: 0.2014\n",
      "Epoch 35/50\n",
      "235/235 [==============================] - 4s 15ms/step - loss: 0.2012 - val_loss: 0.2011\n",
      "Epoch 36/50\n",
      "235/235 [==============================] - 4s 16ms/step - loss: 0.2010 - val_loss: 0.2009\n",
      "Epoch 37/50\n",
      "235/235 [==============================] - 3s 15ms/step - loss: 0.2008 - val_loss: 0.2008\n",
      "Epoch 38/50\n",
      "235/235 [==============================] - 4s 16ms/step - loss: 0.2006 - val_loss: 0.2006\n",
      "Epoch 39/50\n",
      "235/235 [==============================] - 4s 16ms/step - loss: 0.2004 - val_loss: 0.2004\n",
      "Epoch 40/50\n",
      "235/235 [==============================] - 4s 16ms/step - loss: 0.2002 - val_loss: 0.2001\n",
      "Epoch 41/50\n",
      "235/235 [==============================] - 4s 17ms/step - loss: 0.1999 - val_loss: 0.1998\n",
      "Epoch 42/50\n",
      "235/235 [==============================] - 4s 15ms/step - loss: 0.1997 - val_loss: 0.1998\n",
      "Epoch 43/50\n",
      "235/235 [==============================] - 4s 17ms/step - loss: 0.1996 - val_loss: 0.1996\n",
      "Epoch 44/50\n",
      "235/235 [==============================] - 4s 15ms/step - loss: 0.1996 - val_loss: 0.1996\n",
      "Epoch 45/50\n",
      "235/235 [==============================] - 4s 16ms/step - loss: 0.1995 - val_loss: 0.1996\n",
      "Epoch 46/50\n",
      "235/235 [==============================] - 4s 17ms/step - loss: 0.1996 - val_loss: 0.1997\n",
      "Epoch 47/50\n",
      "235/235 [==============================] - 4s 16ms/step - loss: 0.1998 - val_loss: 0.2000\n",
      "Epoch 48/50\n",
      "235/235 [==============================] - 4s 17ms/step - loss: 0.2001 - val_loss: 0.2003\n",
      "Epoch 49/50\n",
      "235/235 [==============================] - 4s 16ms/step - loss: 0.2004 - val_loss: 0.2006\n",
      "Epoch 50/50\n",
      "235/235 [==============================] - 3s 15ms/step - loss: 0.2007 - val_loss: 0.2009\n"
     ]
    }
   ],
   "source": [
    "latent_dimension= 20\n",
    "hidden_dim = 128\n",
    "optimizer = optimizers.legacy.SGD()\n",
    "dense_autoencoder_model = DenseAutoencoder(hidden_dim,latent_dimension,original_dim)\n",
    "dense_autoencoder_model.compile(loss = 'MSE',optimizer=optimizer)\n",
    "history = dense_autoencoder_model.fit(flatten_x_train,flatten_x_train,epochs=max_epochs,batch_size=batch_size,validation_data=(flatten_x_test,flatten_x_test))"
   ]
  },
  {
   "cell_type": "code",
   "execution_count": 8,
   "metadata": {},
   "outputs": [
    {
     "data": {
      "image/png": "[encoded data removed]",
      "text/plain": [
       "<Figure size 640x480 with 1 Axes>"
      ]
     },
     "metadata": {},
     "output_type": "display_data"
    }
   ],
   "source": [
    "plt.plot(range(max_epochs), history.history['loss'])\n",
    "plt.xlabel('Epochs')\n",
    "plt.ylabel('Loss')\n",
    "plt.title('Dense auto encoder loss latent_dimension = 20')\n",
    "plt.show()"
   ]
  },
  {
   "cell_type": "code",
   "execution_count": 9,
   "metadata": {},
   "outputs": [
    {
     "name": "stdout",
     "output_type": "stream",
     "text": [
      "knn score for dense autoencoder model reduction on train dataset :  0.7189333333333333\n",
      "knn score for dense autoencoder model reduction on test dataset :  0.6836\n"
     ]
    }
   ],
   "source": [
    "knn = KNeighborsClassifier()\n",
    "param_distributions = {\"n_neighbors\":list(range(1,30))}\n",
    "clf = RandomizedSearchCV(knn,param_distributions,cv=10)\n",
    "\n",
    "dense_autoencoder_x_train = dense_autoencoder_model.encode(flatten_x_train).numpy()\n",
    "dense_autoencoder_x_test = dense_autoencoder_model.encode(flatten_x_test).numpy()\n",
    "\n",
    "clf.fit(dense_autoencoder_x_train,y_train)\n",
    "\n",
    "knn_dense_autencoder = clf.best_estimator_\n",
    "print('knn score for dense autoencoder model reduction on train dataset : ',knn_dense_autencoder.score(dense_autoencoder_x_train,y_train))\n",
    "print('knn score for dense autoencoder model reduction on test dataset : ',knn_dense_autencoder.score(dense_autoencoder_x_test,y_test))"
   ]
  },
  {
   "attachments": {},
   "cell_type": "markdown",
   "metadata": {},
   "source": [
    "#### latent_dimension = 10\n"
   ]
  },
  {
   "cell_type": "code",
   "execution_count": 10,
   "metadata": {},
   "outputs": [
    {
     "name": "stdout",
     "output_type": "stream",
     "text": [
      "Epoch 1/50\n",
      "235/235 [==============================] - 5s 19ms/step - loss: 0.2398 - val_loss: 0.2399\n",
      "Epoch 2/50\n",
      "235/235 [==============================] - 4s 16ms/step - loss: 0.2409 - val_loss: 0.2420\n",
      "Epoch 3/50\n",
      "235/235 [==============================] - 4s 16ms/step - loss: 0.2437 - val_loss: 0.2453\n",
      "Epoch 4/50\n",
      "235/235 [==============================] - 4s 16ms/step - loss: 0.2469 - val_loss: 0.2481\n",
      "Epoch 5/50\n",
      "235/235 [==============================] - 4s 16ms/step - loss: 0.2488 - val_loss: 0.2491\n",
      "Epoch 6/50\n",
      "235/235 [==============================] - 4s 16ms/step - loss: 0.2493 - val_loss: 0.2493\n",
      "Epoch 7/50\n",
      "235/235 [==============================] - 4s 16ms/step - loss: 0.2496 - val_loss: 0.2497\n",
      "Epoch 8/50\n",
      "235/235 [==============================] - 4s 17ms/step - loss: 0.2500 - val_loss: 0.2501\n",
      "Epoch 9/50\n",
      "235/235 [==============================] - 4s 16ms/step - loss: 0.2504 - val_loss: 0.2505\n",
      "Epoch 10/50\n",
      "235/235 [==============================] - 4s 16ms/step - loss: 0.2508 - val_loss: 0.2507\n",
      "Epoch 11/50\n",
      "235/235 [==============================] - 4s 16ms/step - loss: 0.2509 - val_loss: 0.2509\n",
      "Epoch 12/50\n",
      "235/235 [==============================] - 3s 15ms/step - loss: 0.2508 - val_loss: 0.2506\n",
      "Epoch 13/50\n",
      "235/235 [==============================] - 4s 17ms/step - loss: 0.2506 - val_loss: 0.2505\n",
      "Epoch 14/50\n",
      "235/235 [==============================] - 4s 17ms/step - loss: 0.2506 - val_loss: 0.2506\n",
      "Epoch 15/50\n",
      "235/235 [==============================] - 4s 16ms/step - loss: 0.2507 - val_loss: 0.2506\n",
      "Epoch 16/50\n",
      "235/235 [==============================] - 4s 15ms/step - loss: 0.2508 - val_loss: 0.2508\n",
      "Epoch 17/50\n",
      "235/235 [==============================] - 4s 16ms/step - loss: 0.2511 - val_loss: 0.2511\n",
      "Epoch 18/50\n",
      "235/235 [==============================] - 4s 17ms/step - loss: 0.2513 - val_loss: 0.2514\n",
      "Epoch 19/50\n",
      "235/235 [==============================] - 4s 16ms/step - loss: 0.2516 - val_loss: 0.2516\n",
      "Epoch 20/50\n",
      "235/235 [==============================] - 4s 16ms/step - loss: 0.2518 - val_loss: 0.2517\n",
      "Epoch 21/50\n",
      "235/235 [==============================] - 4s 16ms/step - loss: 0.2518 - val_loss: 0.2517\n",
      "Epoch 22/50\n",
      "235/235 [==============================] - 4s 16ms/step - loss: 0.2519 - val_loss: 0.2519\n",
      "Epoch 23/50\n",
      "235/235 [==============================] - 4s 16ms/step - loss: 0.2520 - val_loss: 0.2520\n",
      "Epoch 24/50\n",
      "235/235 [==============================] - 4s 16ms/step - loss: 0.2522 - val_loss: 0.2524\n",
      "Epoch 25/50\n",
      "235/235 [==============================] - 4s 17ms/step - loss: 0.2527 - val_loss: 0.2528\n",
      "Epoch 26/50\n",
      "235/235 [==============================] - 4s 16ms/step - loss: 0.2531 - val_loss: 0.2532\n",
      "Epoch 27/50\n",
      "235/235 [==============================] - 4s 17ms/step - loss: 0.2535 - val_loss: 0.2537\n",
      "Epoch 28/50\n",
      "235/235 [==============================] - 4s 16ms/step - loss: 0.2540 - val_loss: 0.2540\n",
      "Epoch 29/50\n",
      "235/235 [==============================] - 4s 16ms/step - loss: 0.2544 - val_loss: 0.2545\n",
      "Epoch 30/50\n",
      "235/235 [==============================] - 2s 9ms/step - loss: 0.2548 - val_loss: 0.2551\n",
      "Epoch 31/50\n",
      "235/235 [==============================] - 2s 7ms/step - loss: 0.2554 - val_loss: 0.2555\n",
      "Epoch 32/50\n",
      "235/235 [==============================] - 2s 7ms/step - loss: 0.2558 - val_loss: 0.2559\n",
      "Epoch 33/50\n",
      "235/235 [==============================] - 2s 8ms/step - loss: 0.2561 - val_loss: 0.2562\n",
      "Epoch 34/50\n",
      "235/235 [==============================] - 2s 10ms/step - loss: 0.2565 - val_loss: 0.2565\n",
      "Epoch 35/50\n",
      "235/235 [==============================] - 3s 11ms/step - loss: 0.2567 - val_loss: 0.2567\n",
      "Epoch 36/50\n",
      "235/235 [==============================] - 3s 11ms/step - loss: 0.2569 - val_loss: 0.2568\n",
      "Epoch 37/50\n",
      "235/235 [==============================] - 2s 7ms/step - loss: 0.2569 - val_loss: 0.2568\n",
      "Epoch 38/50\n",
      "235/235 [==============================] - 2s 9ms/step - loss: 0.2567 - val_loss: 0.2565\n",
      "Epoch 39/50\n",
      "235/235 [==============================] - 3s 12ms/step - loss: 0.2566 - val_loss: 0.2565\n",
      "Epoch 40/50\n",
      "235/235 [==============================] - 3s 11ms/step - loss: 0.2566 - val_loss: 0.2565\n",
      "Epoch 41/50\n",
      "235/235 [==============================] - 3s 15ms/step - loss: 0.2565 - val_loss: 0.2562\n",
      "Epoch 42/50\n",
      "235/235 [==============================] - 4s 16ms/step - loss: 0.2560 - val_loss: 0.2556\n",
      "Epoch 43/50\n",
      "235/235 [==============================] - 4s 17ms/step - loss: 0.2552 - val_loss: 0.2547\n",
      "Epoch 44/50\n",
      "235/235 [==============================] - 4s 17ms/step - loss: 0.2544 - val_loss: 0.2541\n",
      "Epoch 45/50\n",
      "235/235 [==============================] - 3s 11ms/step - loss: 0.2539 - val_loss: 0.2535\n",
      "Epoch 46/50\n",
      "235/235 [==============================] - 3s 12ms/step - loss: 0.2535 - val_loss: 0.2534\n",
      "Epoch 47/50\n",
      "235/235 [==============================] - 3s 14ms/step - loss: 0.2536 - val_loss: 0.2536\n",
      "Epoch 48/50\n",
      "235/235 [==============================] - 4s 17ms/step - loss: 0.2536 - val_loss: 0.2534\n",
      "Epoch 49/50\n",
      "235/235 [==============================] - 4s 16ms/step - loss: 0.2531 - val_loss: 0.2529\n",
      "Epoch 50/50\n",
      "235/235 [==============================] - 4s 17ms/step - loss: 0.2531 - val_loss: 0.2532\n"
     ]
    }
   ],
   "source": [
    "latent_dimension= 10\n",
    "optimizer = optimizers.legacy.SGD()\n",
    "dense_autoencoder_model = DenseAutoencoder(hidden_dim,latent_dimension,original_dim)\n",
    "dense_autoencoder_model.compile(loss = 'MSE',optimizer=optimizer)\n",
    "history = dense_autoencoder_model.fit(flatten_x_train,flatten_x_train,epochs=max_epochs,batch_size=batch_size,validation_data=(flatten_x_test,flatten_x_test))"
   ]
  },
  {
   "cell_type": "code",
   "execution_count": 11,
   "metadata": {},
   "outputs": [
    {
     "data": {
      "image/png": "[encoded data removed]",
      "text/plain": [
       "<Figure size 640x480 with 1 Axes>"
      ]
     },
     "metadata": {},
     "output_type": "display_data"
    }
   ],
   "source": [
    "plt.plot(range(max_epochs), history.history['loss'])\n",
    "plt.xlabel('Epochs')\n",
    "plt.ylabel('Loss')\n",
    "plt.title('Dense auto encoder loss latent_dimension = 10')\n",
    "plt.show()"
   ]
  },
  {
   "cell_type": "code",
   "execution_count": 12,
   "metadata": {},
   "outputs": [
    {
     "name": "stdout",
     "output_type": "stream",
     "text": [
      "knn score for dense autoencoder model reduction on train dataset :  0.6226166666666667\n",
      "knn score for dense autoencoder model reduction on test dataset :  0.5924\n"
     ]
    }
   ],
   "source": [
    "knn = KNeighborsClassifier()\n",
    "param_distributions = {\"n_neighbors\":list(range(1,30))}\n",
    "clf = RandomizedSearchCV(knn,param_distributions,cv=10)\n",
    "\n",
    "dense_autoencoder_x_train = dense_autoencoder_model.encode(flatten_x_train).numpy()\n",
    "dense_autoencoder_x_test = dense_autoencoder_model.encode(flatten_x_test).numpy()\n",
    "\n",
    "clf.fit(dense_autoencoder_x_train,y_train)\n",
    "\n",
    "knn_dense_autencoder = clf.best_estimator_\n",
    "print('knn score for dense autoencoder model reduction on train dataset : ',knn_dense_autencoder.score(dense_autoencoder_x_train,y_train))\n",
    "print('knn score for dense autoencoder model reduction on test dataset : ',knn_dense_autencoder.score(dense_autoencoder_x_test,y_test))"
   ]
  },
  {
   "attachments": {},
   "cell_type": "markdown",
   "metadata": {},
   "source": [
    "### CNN"
   ]
  },
  {
   "cell_type": "code",
   "execution_count": 23,
   "metadata": {},
   "outputs": [],
   "source": [
    "class CnnAutoencoder(Model):\n",
    "    def __init__(self, filters):\n",
    "        super(CnnAutoencoder, self).__init__()\n",
    "\n",
    "        self.conv1_encoder = layers.Conv2D(filters=filters[0], kernel_size=3, strides=1,\n",
    "                                   activation='relu', padding='same')\n",
    "        self.conv2_encoder = layers.Conv2D(filters=filters[1], kernel_size=3, strides=1,\n",
    "                                   activation='relu', padding='same')\n",
    "        self.conv3_encoder = layers.Conv2D(filters=filters[2], kernel_size=3, strides=1,\n",
    "                                   activation='relu', padding='same')\n",
    "        self.pool = layers.MaxPooling2D((2, 2), padding='same')\n",
    "\n",
    "        self.conv1_decoder = layers.Conv2D(filters=filters[2], kernel_size=3, strides=1,\n",
    "                                   activation='relu', padding='same')\n",
    "        self.conv2_decoder = layers.Conv2D(filters=filters[1], kernel_size=3, strides=1,\n",
    "                                   activation='relu', padding='same')\n",
    "        self.conv3_decoder = layers.Conv2D(filters=filters[0], kernel_size=3, strides=1,\n",
    "                                   activation='relu', padding='valid')\n",
    "        self.conv4_decoder = layers.Conv2D(1, 3, 1, activation='sigmoid',\n",
    "                                   padding='same')\n",
    "        self.upsample = layers.UpSampling2D((2, 2))\n",
    "\n",
    "    def call(self, input_features):\n",
    "        encoded = self.encode(input_features)\n",
    "        reconstructed = self.decode(encoded)\n",
    "        return reconstructed\n",
    "\n",
    "    def encode(self, input_features):\n",
    "        x = self.conv1_encoder(input_features)\n",
    "        x = self.pool(x)\n",
    "        x = self.conv2_encoder(x)\n",
    "        x = self.pool(x)\n",
    "        x = self.conv3_encoder(x)\n",
    "        encoded = self.pool(x)\n",
    "        return encoded\n",
    "\n",
    "    def decode(self, encoded):\n",
    "        x = self.conv1_decoder(encoded)\n",
    "        x = self.upsample(x)\n",
    "        x = self.conv2_decoder(x)\n",
    "        x = self.upsample(x)\n",
    "        x = self.conv3_decoder(x)\n",
    "        x = self.upsample(x)\n",
    "        reconstructed = self.conv4_decoder(x)\n",
    "        return reconstructed"
   ]
  },
  {
   "cell_type": "code",
   "execution_count": 14,
   "metadata": {},
   "outputs": [],
   "source": [
    "batch_size = 256\n",
    "max_epochs = 50\n",
    "learning_rate = 1e-3"
   ]
  },
  {
   "attachments": {},
   "cell_type": "markdown",
   "metadata": {},
   "source": [
    "#### filters = [32,32,16]\n"
   ]
  },
  {
   "cell_type": "code",
   "execution_count": 15,
   "metadata": {},
   "outputs": [
    {
     "name": "stdout",
     "output_type": "stream",
     "text": [
      "Epoch 1/50\n",
      "235/235 [==============================] - 20s 83ms/step - loss: 0.1551 - val_loss: 0.1400\n",
      "Epoch 2/50\n",
      "235/235 [==============================] - 20s 85ms/step - loss: 0.1318 - val_loss: 0.1236\n",
      "Epoch 3/50\n",
      "235/235 [==============================] - 19s 82ms/step - loss: 0.1144 - val_loss: 0.1011\n",
      "Epoch 4/50\n",
      "235/235 [==============================] - 20s 83ms/step - loss: 0.0833 - val_loss: 0.0650\n",
      "Epoch 5/50\n",
      "235/235 [==============================] - 20s 84ms/step - loss: 0.0559 - val_loss: 0.0499\n",
      "Epoch 6/50\n",
      "235/235 [==============================] - 20s 87ms/step - loss: 0.0473 - val_loss: 0.0450\n",
      "Epoch 7/50\n",
      "235/235 [==============================] - 20s 85ms/step - loss: 0.0434 - val_loss: 0.0420\n",
      "Epoch 8/50\n",
      "235/235 [==============================] - 21s 90ms/step - loss: 0.0409 - val_loss: 0.0399\n",
      "Epoch 9/50\n",
      "235/235 [==============================] - 20s 85ms/step - loss: 0.0392 - val_loss: 0.0385\n",
      "Epoch 10/50\n",
      "235/235 [==============================] - 20s 85ms/step - loss: 0.0379 - val_loss: 0.0373\n",
      "Epoch 11/50\n",
      "235/235 [==============================] - 19s 82ms/step - loss: 0.0369 - val_loss: 0.0364\n",
      "Epoch 12/50\n",
      "235/235 [==============================] - 20s 85ms/step - loss: 0.0360 - val_loss: 0.0355\n",
      "Epoch 13/50\n",
      "235/235 [==============================] - 19s 82ms/step - loss: 0.0352 - val_loss: 0.0347\n",
      "Epoch 14/50\n",
      "235/235 [==============================] - 20s 85ms/step - loss: 0.0344 - val_loss: 0.0341\n",
      "Epoch 15/50\n",
      "235/235 [==============================] - 20s 84ms/step - loss: 0.0338 - val_loss: 0.0335\n",
      "Epoch 16/50\n",
      "235/235 [==============================] - 20s 86ms/step - loss: 0.0332 - val_loss: 0.0329\n",
      "Epoch 17/50\n",
      "235/235 [==============================] - 20s 86ms/step - loss: 0.0327 - val_loss: 0.0324\n",
      "Epoch 18/50\n",
      "235/235 [==============================] - 20s 87ms/step - loss: 0.0322 - val_loss: 0.0319\n",
      "Epoch 19/50\n",
      "235/235 [==============================] - 20s 84ms/step - loss: 0.0317 - val_loss: 0.0315\n",
      "Epoch 20/50\n",
      "235/235 [==============================] - 19s 82ms/step - loss: 0.0313 - val_loss: 0.0311\n",
      "Epoch 21/50\n",
      "235/235 [==============================] - 19s 82ms/step - loss: 0.0309 - val_loss: 0.0307\n",
      "Epoch 22/50\n",
      "235/235 [==============================] - 19s 83ms/step - loss: 0.0305 - val_loss: 0.0303\n",
      "Epoch 23/50\n",
      "235/235 [==============================] - 20s 85ms/step - loss: 0.0302 - val_loss: 0.0299\n",
      "Epoch 24/50\n",
      "235/235 [==============================] - 20s 85ms/step - loss: 0.0298 - val_loss: 0.0296\n",
      "Epoch 25/50\n",
      "235/235 [==============================] - 20s 85ms/step - loss: 0.0295 - val_loss: 0.0293\n",
      "Epoch 26/50\n",
      "235/235 [==============================] - 20s 87ms/step - loss: 0.0292 - val_loss: 0.0290\n",
      "Epoch 27/50\n",
      "235/235 [==============================] - 19s 83ms/step - loss: 0.0289 - val_loss: 0.0287\n",
      "Epoch 28/50\n",
      "235/235 [==============================] - 20s 85ms/step - loss: 0.0286 - val_loss: 0.0284\n",
      "Epoch 29/50\n",
      "235/235 [==============================] - 20s 86ms/step - loss: 0.0283 - val_loss: 0.0282\n",
      "Epoch 30/50\n",
      "235/235 [==============================] - 20s 85ms/step - loss: 0.0281 - val_loss: 0.0279\n",
      "Epoch 31/50\n",
      "235/235 [==============================] - 20s 84ms/step - loss: 0.0278 - val_loss: 0.0277\n",
      "Epoch 32/50\n",
      "235/235 [==============================] - 20s 84ms/step - loss: 0.0276 - val_loss: 0.0275\n",
      "Epoch 33/50\n",
      "235/235 [==============================] - 20s 86ms/step - loss: 0.0274 - val_loss: 0.0272\n",
      "Epoch 34/50\n",
      "235/235 [==============================] - 20s 86ms/step - loss: 0.0272 - val_loss: 0.0270\n",
      "Epoch 35/50\n",
      "235/235 [==============================] - 20s 86ms/step - loss: 0.0269 - val_loss: 0.0268\n",
      "Epoch 36/50\n",
      "235/235 [==============================] - 20s 87ms/step - loss: 0.0268 - val_loss: 0.0266\n",
      "Epoch 37/50\n",
      "235/235 [==============================] - 19s 82ms/step - loss: 0.0266 - val_loss: 0.0264\n",
      "Epoch 38/50\n",
      "235/235 [==============================] - 19s 82ms/step - loss: 0.0264 - val_loss: 0.0263\n",
      "Epoch 39/50\n",
      "235/235 [==============================] - 19s 82ms/step - loss: 0.0262 - val_loss: 0.0261\n",
      "Epoch 40/50\n",
      "235/235 [==============================] - 20s 84ms/step - loss: 0.0260 - val_loss: 0.0260\n",
      "Epoch 41/50\n",
      "235/235 [==============================] - 19s 82ms/step - loss: 0.0259 - val_loss: 0.0258\n",
      "Epoch 42/50\n",
      "235/235 [==============================] - 20s 85ms/step - loss: 0.0258 - val_loss: 0.0257\n",
      "Epoch 43/50\n",
      "235/235 [==============================] - 20s 85ms/step - loss: 0.0257 - val_loss: 0.0255\n",
      "Epoch 44/50\n",
      "235/235 [==============================] - 20s 87ms/step - loss: 0.0256 - val_loss: 0.0255\n",
      "Epoch 45/50\n",
      "235/235 [==============================] - 20s 86ms/step - loss: 0.0255 - val_loss: 0.0253\n",
      "Epoch 46/50\n",
      "235/235 [==============================] - 19s 80ms/step - loss: 0.0255 - val_loss: 0.0255\n",
      "Epoch 47/50\n",
      "235/235 [==============================] - 20s 86ms/step - loss: 0.0252 - val_loss: 0.0251\n",
      "Epoch 48/50\n",
      "235/235 [==============================] - 20s 86ms/step - loss: 0.0252 - val_loss: 0.0249\n",
      "Epoch 49/50\n",
      "235/235 [==============================] - 20s 84ms/step - loss: 0.0250 - val_loss: 0.0253\n",
      "Epoch 50/50\n",
      "235/235 [==============================] - 20s 83ms/step - loss: 0.0250 - val_loss: 0.0247\n"
     ]
    }
   ],
   "source": [
    "filters = [32,32,16]\n",
    "optimizer = optimizers.legacy.SGD()\n",
    "cnn_autoencoder_model = CnnAutoencoder(filters)\n",
    "cnn_autoencoder_model.compile(loss = 'MSE',optimizer=optimizer)\n",
    "history = cnn_autoencoder_model.fit(x_train,x_train,epochs=max_epochs,batch_size=batch_size,validation_data=(x_test,x_test))"
   ]
  },
  {
   "cell_type": "code",
   "execution_count": 16,
   "metadata": {},
   "outputs": [
    {
     "data": {
      "image/png": "[encoded data removed]",
      "text/plain": [
       "<Figure size 640x480 with 1 Axes>"
      ]
     },
     "metadata": {},
     "output_type": "display_data"
    }
   ],
   "source": [
    "plt.plot(range(max_epochs), history.history['loss'])\n",
    "plt.xlabel('Epochs')\n",
    "plt.ylabel('Loss')\n",
    "plt.title('CNN auto encoder loss filters = [32,32,16]')\n",
    "plt.show()"
   ]
  },
  {
   "cell_type": "code",
   "execution_count": 17,
   "metadata": {},
   "outputs": [
    {
     "name": "stdout",
     "output_type": "stream",
     "text": [
      "knn score for cnn_autoencoder reduction on train dataset :  0.8626666666666667\n",
      "knn score for cnn_autoencoder reduction on test dataset :  0.803\n"
     ]
    }
   ],
   "source": [
    "knn = KNeighborsClassifier()\n",
    "param_distributions = {\"n_neighbors\":list(range(1,30))}\n",
    "clf = RandomizedSearchCV(knn,param_distributions,cv=10)\n",
    "\n",
    "cnn_autoencoder_x_train = cnn_autoencoder_model.encode(x_train).numpy().reshape((len(x_train),-1))\n",
    "cnn_autoencoder_x_test = cnn_autoencoder_model.encode(x_test).numpy().reshape((len(x_test),-1))\n",
    "\n",
    "clf.fit(cnn_autoencoder_x_train,y_train)\n",
    "\n",
    "knn_cnn_autencoder = clf.best_estimator_\n",
    "print('knn score for cnn_autoencoder reduction on train dataset : ',knn_cnn_autencoder.score(cnn_autoencoder_x_train,y_train))\n",
    "print('knn score for cnn_autoencoder reduction on test dataset : ',knn_cnn_autencoder.score(cnn_autoencoder_x_test,y_test))"
   ]
  },
  {
   "attachments": {},
   "cell_type": "markdown",
   "metadata": {},
   "source": [
    "#### filters = [32,32,32]\n"
   ]
  },
  {
   "cell_type": "code",
   "execution_count": 18,
   "metadata": {},
   "outputs": [
    {
     "name": "stdout",
     "output_type": "stream",
     "text": [
      "Epoch 1/50\n",
      "235/235 [==============================] - 21s 88ms/step - loss: 0.1451 - val_loss: 0.1320\n",
      "Epoch 2/50\n",
      "235/235 [==============================] - 21s 88ms/step - loss: 0.1293 - val_loss: 0.1263\n",
      "Epoch 3/50\n",
      "235/235 [==============================] - 20s 87ms/step - loss: 0.1239 - val_loss: 0.1196\n",
      "Epoch 4/50\n",
      "235/235 [==============================] - 20s 85ms/step - loss: 0.1125 - val_loss: 0.1013\n",
      "Epoch 5/50\n",
      "235/235 [==============================] - 20s 85ms/step - loss: 0.0830 - val_loss: 0.0625\n",
      "Epoch 6/50\n",
      "235/235 [==============================] - 20s 84ms/step - loss: 0.0519 - val_loss: 0.0459\n",
      "Epoch 7/50\n",
      "235/235 [==============================] - 20s 84ms/step - loss: 0.0437 - val_loss: 0.0418\n",
      "Epoch 8/50\n",
      "235/235 [==============================] - 20s 85ms/step - loss: 0.0405 - val_loss: 0.0393\n",
      "Epoch 9/50\n",
      "235/235 [==============================] - 20s 85ms/step - loss: 0.0384 - val_loss: 0.0376\n",
      "Epoch 10/50\n",
      "235/235 [==============================] - 20s 87ms/step - loss: 0.0370 - val_loss: 0.0364\n",
      "Epoch 11/50\n",
      "235/235 [==============================] - 20s 85ms/step - loss: 0.0359 - val_loss: 0.0355\n",
      "Epoch 12/50\n",
      "235/235 [==============================] - 20s 87ms/step - loss: 0.0352 - val_loss: 0.0348\n",
      "Epoch 13/50\n",
      "235/235 [==============================] - 20s 86ms/step - loss: 0.0346 - val_loss: 0.0343\n",
      "Epoch 14/50\n",
      "235/235 [==============================] - 20s 84ms/step - loss: 0.0340 - val_loss: 0.0338\n",
      "Epoch 15/50\n",
      "235/235 [==============================] - 21s 88ms/step - loss: 0.0336 - val_loss: 0.0333\n",
      "Epoch 16/50\n",
      "235/235 [==============================] - 19s 81ms/step - loss: 0.0331 - val_loss: 0.0329\n",
      "Epoch 17/50\n",
      "235/235 [==============================] - 20s 83ms/step - loss: 0.0327 - val_loss: 0.0325\n",
      "Epoch 18/50\n",
      "235/235 [==============================] - 19s 83ms/step - loss: 0.0324 - val_loss: 0.0321\n",
      "Epoch 19/50\n",
      "235/235 [==============================] - 19s 83ms/step - loss: 0.0320 - val_loss: 0.0318\n",
      "Epoch 20/50\n",
      "235/235 [==============================] - 20s 85ms/step - loss: 0.0316 - val_loss: 0.0314\n",
      "Epoch 21/50\n",
      "235/235 [==============================] - 21s 88ms/step - loss: 0.0313 - val_loss: 0.0311\n",
      "Epoch 22/50\n",
      "235/235 [==============================] - 21s 89ms/step - loss: 0.0310 - val_loss: 0.0308\n",
      "Epoch 23/50\n",
      "235/235 [==============================] - 21s 87ms/step - loss: 0.0307 - val_loss: 0.0305\n",
      "Epoch 24/50\n",
      "235/235 [==============================] - 20s 86ms/step - loss: 0.0303 - val_loss: 0.0301\n",
      "Epoch 25/50\n",
      "235/235 [==============================] - 20s 86ms/step - loss: 0.0300 - val_loss: 0.0298\n",
      "Epoch 26/50\n",
      "235/235 [==============================] - 20s 83ms/step - loss: 0.0298 - val_loss: 0.0296\n",
      "Epoch 27/50\n",
      "235/235 [==============================] - 19s 82ms/step - loss: 0.0295 - val_loss: 0.0293\n",
      "Epoch 28/50\n",
      "235/235 [==============================] - 20s 86ms/step - loss: 0.0292 - val_loss: 0.0290\n",
      "Epoch 29/50\n",
      "235/235 [==============================] - 20s 85ms/step - loss: 0.0289 - val_loss: 0.0287\n",
      "Epoch 30/50\n",
      "235/235 [==============================] - 20s 85ms/step - loss: 0.0287 - val_loss: 0.0285\n",
      "Epoch 31/50\n",
      "235/235 [==============================] - 19s 82ms/step - loss: 0.0284 - val_loss: 0.0283\n",
      "Epoch 32/50\n",
      "235/235 [==============================] - 21s 89ms/step - loss: 0.0282 - val_loss: 0.0280\n",
      "Epoch 33/50\n",
      "235/235 [==============================] - 20s 86ms/step - loss: 0.0279 - val_loss: 0.0278\n",
      "Epoch 34/50\n",
      "235/235 [==============================] - 21s 90ms/step - loss: 0.0277 - val_loss: 0.0275\n",
      "Epoch 35/50\n",
      "235/235 [==============================] - 21s 88ms/step - loss: 0.0275 - val_loss: 0.0273\n",
      "Epoch 36/50\n",
      "235/235 [==============================] - 20s 83ms/step - loss: 0.0273 - val_loss: 0.0272\n",
      "Epoch 37/50\n",
      "235/235 [==============================] - 20s 84ms/step - loss: 0.0271 - val_loss: 0.0269\n",
      "Epoch 38/50\n",
      "235/235 [==============================] - 20s 84ms/step - loss: 0.0271 - val_loss: 0.0268\n",
      "Epoch 39/50\n",
      "235/235 [==============================] - 20s 84ms/step - loss: 0.0271 - val_loss: 0.0266\n",
      "Epoch 40/50\n",
      "235/235 [==============================] - 20s 84ms/step - loss: 0.0269 - val_loss: 0.0275\n",
      "Epoch 41/50\n",
      "235/235 [==============================] - 20s 85ms/step - loss: 0.0268 - val_loss: 0.0273\n",
      "Epoch 42/50\n",
      "235/235 [==============================] - 20s 85ms/step - loss: 0.0267 - val_loss: 0.0266\n",
      "Epoch 43/50\n",
      "235/235 [==============================] - 20s 87ms/step - loss: 0.0265 - val_loss: 0.0260\n",
      "Epoch 44/50\n",
      "235/235 [==============================] - 20s 86ms/step - loss: 0.0265 - val_loss: 0.0262\n",
      "Epoch 45/50\n",
      "235/235 [==============================] - 21s 88ms/step - loss: 0.0263 - val_loss: 0.0263\n",
      "Epoch 46/50\n",
      "235/235 [==============================] - 20s 87ms/step - loss: 0.0261 - val_loss: 0.0258\n",
      "Epoch 47/50\n",
      "235/235 [==============================] - 20s 84ms/step - loss: 0.0261 - val_loss: 0.0261\n",
      "Epoch 48/50\n",
      "235/235 [==============================] - 19s 83ms/step - loss: 0.0258 - val_loss: 0.0263\n",
      "Epoch 49/50\n",
      "235/235 [==============================] - 20s 85ms/step - loss: 0.0257 - val_loss: 0.0257\n",
      "Epoch 50/50\n",
      "235/235 [==============================] - 20s 87ms/step - loss: 0.0257 - val_loss: 0.0251\n"
     ]
    }
   ],
   "source": [
    "filters = [32,32,32]\n",
    "optimizer = optimizers.legacy.SGD()\n",
    "cnn_autoencoder_model = CnnAutoencoder(filters)\n",
    "cnn_autoencoder_model.compile(loss = 'MSE',optimizer=optimizer)\n",
    "history = cnn_autoencoder_model.fit(x_train,x_train,epochs=max_epochs,batch_size=batch_size,validation_data=(x_test,x_test))"
   ]
  },
  {
   "cell_type": "code",
   "execution_count": 19,
   "metadata": {},
   "outputs": [
    {
     "data": {
      "image/png": "[encoded data removed]",
      "text/plain": [
       "<Figure size 640x480 with 1 Axes>"
      ]
     },
     "metadata": {},
     "output_type": "display_data"
    }
   ],
   "source": [
    "plt.plot(range(max_epochs), history.history['loss'])\n",
    "plt.xlabel('Epochs')\n",
    "plt.ylabel('Loss')\n",
    "plt.title('CNN auto encoder loss filters = [32,32,32]')\n",
    "plt.show()"
   ]
  },
  {
   "cell_type": "code",
   "execution_count": 20,
   "metadata": {},
   "outputs": [
    {
     "name": "stdout",
     "output_type": "stream",
     "text": [
      "knn score for cnn_autoencoder reduction on train dataset :  0.86785\n",
      "knn score for cnn_autoencoder reduction on test dataset :  0.8123\n"
     ]
    }
   ],
   "source": [
    "knn = KNeighborsClassifier()\n",
    "param_distributions = {\"n_neighbors\":list(range(1,30))}\n",
    "clf = RandomizedSearchCV(knn,param_distributions,cv=10)\n",
    "\n",
    "cnn_autoencoder_x_train = cnn_autoencoder_model.encode(x_train).numpy().reshape((len(x_train),-1))\n",
    "cnn_autoencoder_x_test = cnn_autoencoder_model.encode(x_test).numpy().reshape((len(x_test),-1))\n",
    "\n",
    "clf.fit(cnn_autoencoder_x_train,y_train)\n",
    "\n",
    "knn_cnn_autencoder = clf.best_estimator_\n",
    "print('knn score for cnn_autoencoder reduction on train dataset : ',knn_cnn_autencoder.score(cnn_autoencoder_x_train,y_train))\n",
    "print('knn score for cnn_autoencoder reduction on test dataset : ',knn_cnn_autencoder.score(cnn_autoencoder_x_test,y_test))"
   ]
  }
 ],
 "metadata": {
  "kernelspec": {
   "display_name": "env_tf",
   "language": "python",
   "name": "python3"
  },
  "language_info": {
   "codemirror_mode": {
    "name": "ipython",
    "version": 3
   },
   "file_extension": ".py",
   "mimetype": "text/x-python",
   "name": "python",
   "nbconvert_exporter": "python",
   "pygments_lexer": "ipython3",
   "version": "3.10.12"
  },
  "orig_nbformat": 4
 },
 "nbformat": 4,
 "nbformat_minor": 2
}
